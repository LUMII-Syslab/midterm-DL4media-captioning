{
 "cells": [
  {
   "cell_type": "code",
   "execution_count": null,
   "metadata": {},
   "outputs": [],
   "source": [
    "# module and library required to build a Face Recognition System\n",
    "import face_recognition\n",
    "import cv2\n",
    "import matplotlib.pyplot as plt\n",
    "import numpy as np\n",
    "%matplotlib inline\n",
    "\n",
    "import os\n",
    "import pickle\n",
    "\n",
    "from PIL import Image"
   ]
  },
  {
   "cell_type": "code",
   "execution_count": null,
   "metadata": {},
   "outputs": [],
   "source": [
    "known_images = []\n",
    "imgs = []\n",
    "known_encodings = []\n",
    "known_names = []"
   ]
  },
  {
   "cell_type": "code",
   "execution_count": null,
   "metadata": {},
   "outputs": [],
   "source": [
    "try:\n",
    "    data = pickle.loads(open(\"encodings.pickle\", \"rb\").read())\n",
    "    known_encodings = data[\"encodings\"]\n",
    "    known_names = data[\"names\"]\n",
    "except:\n",
    "    print(\"No encodings to load\")"
   ]
  },
  {
   "cell_type": "code",
   "execution_count": null,
   "metadata": {
    "scrolled": true
   },
   "outputs": [],
   "source": [
    "PATH_KNOWN = \"known_preview/\"\n",
    "ind_real = 0\n",
    "for ind, p_known_image in enumerate(os.listdir(PATH_KNOWN)):\n",
    "    potential_name = p_known_image[:-6]\n",
    "    if potential_name not in known_names:\n",
    "        p_known_image = PATH_KNOWN + p_known_image\n",
    "\n",
    "        # if want to use known_images then need to pop last if face encoding isnt added\n",
    "        known_images.append(face_recognition.load_image_file(p_known_image))\n",
    "        imgs.append(cv2.imread(p_known_image))\n",
    "        plt.figure(figsize=(15,15))\n",
    "        plt.imshow(imgs[ind_real])\n",
    "        plt.show()\n",
    "        try:\n",
    "            known_encodings.append(face_recognition.face_encodings(known_images[ind_real])[0])\n",
    "            known_names.append(potential_name)\n",
    "        except:\n",
    "            print(\"Didn't add face from {}\".format(p_known_image))\n",
    "        finally:\n",
    "            ind_real += 1\n",
    "    else:\n",
    "        # if wanted to add new encodings for same person then what?\n",
    "        pass"
   ]
  },
  {
   "cell_type": "code",
   "execution_count": null,
   "metadata": {},
   "outputs": [],
   "source": [
    "data = {\"encodings\": known_encodings, \"names\": known_names}\n",
    "f = open(\"encodings.pickle\", \"wb\")\n",
    "f.write(pickle.dumps(data))\n",
    "f.close()"
   ]
  },
  {
   "cell_type": "code",
   "execution_count": null,
   "metadata": {},
   "outputs": [],
   "source": [
    "def pickle_unknowns(unk_enc, unk_nam, unk_img, unk_hits):\n",
    "    unk_data = {'encodings': unk_enc,\n",
    "               'names': unk_nam,\n",
    "               'images': unk_img,\n",
    "               'hits': unk_hits}\n",
    "    f = open('unknowns.pickle', 'wb')\n",
    "    f.write(pickle.dumps(unk_data))\n",
    "    f.close()"
   ]
  },
  {
   "cell_type": "code",
   "execution_count": null,
   "metadata": {},
   "outputs": [],
   "source": [
    "import random;"
   ]
  },
  {
   "cell_type": "code",
   "execution_count": null,
   "metadata": {
    "scrolled": true
   },
   "outputs": [],
   "source": [
    "# Initialize some variables\n",
    "face_locations = []\n",
    "face_encodings = []\n",
    "face_names = []\n",
    "\n",
    "unknown_encodings = []\n",
    "unknown_names = []\n",
    "unknown_images = []\n",
    "unknown_hits = []\n",
    "\n",
    "unk_dump_counter = 0\n",
    "\n",
    "PATH_TEST = \"../test_set/LETA_train_full_2019-06-01_2019-08-31/LETA_pics_full/\"\n",
    "\n",
    "# for p_test_image in random.shuffle(os.listdir(PATH_TEST)):\n",
    "test_paths = os.listdir(PATH_TEST)\n",
    "random.shuffle(test_paths)\n",
    "for p_test_image in test_paths:\n",
    "    show_pic = False\n",
    "    test_show = False\n",
    "    \n",
    "    p_test_image = PATH_TEST + p_test_image\n",
    "    \n",
    "#     rgb_frame = Image.open(p_test_image)\n",
    "#     rgb_frame.thumbnail((2000, 2000))\n",
    "    \n",
    "    # image = face_recognition.load_image_file(p_test_image)\n",
    "    \n",
    "    # can i replace following with the face_rec method above?\n",
    "    frame = cv2.imread(p_test_image)\n",
    "    frame = cv2.resize(frame, None, fx=0.4, fy=0.4, interpolation=cv2.INTER_AREA)\n",
    "    rgb_frame = frame[:, :, ::-1]\n",
    "    \n",
    "    face_locations = face_recognition.face_locations(rgb_frame)\n",
    "    # face_locations = face_recognition.face_locations(rgb_frame, model = \"cnn\")\n",
    "    # face_locations_unk = face_recognition.face_locations(image)\n",
    "    face_encodings = face_recognition.face_encodings(rgb_frame, face_locations)\n",
    "    face_names = []\n",
    "    for idx, face_encoding in enumerate(face_encodings):\n",
    "        match = face_recognition.compare_faces(known_encodings, face_encoding, tolerance=0.50)\n",
    "        match_unk = face_recognition.compare_faces(unknown_encodings, face_encoding, tolerance=0.50)\n",
    "        name = None\n",
    "        for ind, m in enumerate(match):\n",
    "            if m:\n",
    "                name = known_names[ind]\n",
    "                show_pic = True\n",
    "        for ind, m in enumerate(match_unk):\n",
    "            if m:\n",
    "                name = unknown_names[ind]\n",
    "                unknown_hits[ind] += 1\n",
    "                # only show pic if we \"know\" the person\n",
    "                if unknown_hits[ind] > 4:\n",
    "                    show_pic = True\n",
    "                # save unknown faces\n",
    "                top, right, bottom, left = face_locations[idx]\n",
    "                face_array = rgb_frame[top:bottom, left:right]\n",
    "                face_image = Image.fromarray(face_array)\n",
    "                unknown_images[ind] += [face_image]\n",
    "                # pickle the unknowns, to use if crashes or sht\n",
    "                unk_dump_counter += 1\n",
    "                if unk_dump_counter%10 == 0:\n",
    "                    pickle_unknowns(unknown_encodings, unknown_names, unknown_images, unknown_hits)\n",
    "                \n",
    "        face_names.append(name)\n",
    "        if not show_pic:\n",
    "            # save unknown faces\n",
    "            top, right, bottom, left = face_locations[idx]\n",
    "            face_array = rgb_frame[top:bottom, left:right]\n",
    "            face_image = Image.fromarray(face_array)\n",
    "            \n",
    "            unknown_images.append([face_image])\n",
    "            # 2do: same list thing for encodings, for when first pic poor (altho mby explodes)\n",
    "            unknown_encodings.append(face_encoding)\n",
    "            unknown_names.append(\"unk{}\".format(len(unknown_names)))\n",
    "            unknown_hits.append(1)\n",
    "            # can add something that saves all pics of same unk face\n",
    "    \n",
    "    for (top, right, bottom, left), name in zip(face_locations, face_names):\n",
    "#         if not name:\n",
    "#             continue\n",
    "        cv2.rectangle(frame, (left, top), (right, bottom), (0, 0, 255), 2)\n",
    "        cv2.rectangle(frame, (left, bottom + 25), (right, bottom), (0, 0, 255), cv2.FILLED)\n",
    "        font = cv2.FONT_HERSHEY_DUPLEX\n",
    "        cv2.putText(frame, name, (left + 6, bottom + 19), font, 2.0, (255, 255, 255), 3)\n",
    "    if show_pic:\n",
    "        plt.figure(figsize = (15, 15))\n",
    "        plt.imshow(frame)\n",
    "        plt.show()\n",
    "        cv2.destroyAllWindows()\n",
    "        "
   ]
  },
  {
   "cell_type": "code",
   "execution_count": null,
   "metadata": {
    "scrolled": true
   },
   "outputs": [],
   "source": [
    "# add code that outputs unknown faces in order of hits\n",
    "# zip hits and face img, output in order?\n",
    "# good enough if we want human to recog and just add that person\n",
    "\n",
    "# OR filter out just those that have more than x hits\n",
    "\n",
    "print(unknown_hits)\n",
    "\n",
    "for ind, hits in enumerate(unknown_hits):\n",
    "    if hits > 5:\n",
    "        print(hits)\n",
    "        plt.figure(figsize = (15, 15))\n",
    "        for unk_img in unknown_images[ind]:\n",
    "            plt.imshow(unk_img)\n",
    "            plt.show()\n",
    "            cv2.destroyAllWindows()\n",
    "        # unknown_images[ind].show()"
   ]
  },
  {
   "cell_type": "code",
   "execution_count": null,
   "metadata": {},
   "outputs": [],
   "source": [
    "# LOAD UNKNOWNS FROM FILE\n",
    "if True:\n",
    "    try:\n",
    "        unk_data = pickle.loads(open(\"unknowns.pickle\", \"rb\").read())\n",
    "        unknown_encodings = unk_data[\"encodings\"]\n",
    "        unknown_names = unk_data[\"names\"]\n",
    "        unknown_images = unk_data['images']\n",
    "        unknown_hits = unk_data['hits']\n",
    "    except:\n",
    "        print(\"No encodings to load\")"
   ]
  },
  {
   "cell_type": "code",
   "execution_count": null,
   "metadata": {},
   "outputs": [],
   "source": [
    "%notebook -e emerg_save.ipynb"
   ]
  },
  {
   "cell_type": "code",
   "execution_count": null,
   "metadata": {},
   "outputs": [],
   "source": []
  }
 ],
 "metadata": {
  "kernelspec": {
   "display_name": "Python 3",
   "language": "python",
   "name": "python3"
  },
  "language_info": {
   "codemirror_mode": {
    "name": "ipython",
    "version": 3
   },
   "file_extension": ".py",
   "mimetype": "text/x-python",
   "name": "python",
   "nbconvert_exporter": "python",
   "pygments_lexer": "ipython3",
   "version": "3.6.8"
  }
 },
 "nbformat": 4,
 "nbformat_minor": 2
}
